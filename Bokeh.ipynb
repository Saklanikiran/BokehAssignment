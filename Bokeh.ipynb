{
 "cells": [
  {
   "cell_type": "markdown",
   "id": "47b991eb-7efc-4c3c-b387-5d5d08409d28",
   "metadata": {},
   "source": [
    "# Ans : 1"
   ]
  },
  {
   "cell_type": "code",
   "execution_count": 7,
   "id": "e50e3e22-79fd-43d8-b58f-fb0312781bfc",
   "metadata": {},
   "outputs": [
    {
     "name": "stderr",
     "output_type": "stream",
     "text": [
      "BokehDeprecationWarning: 'circle() method with size value' was deprecated in Bokeh 3.4.0 and will be removed, use 'scatter(size=...) instead' instead.\n"
     ]
    }
   ],
   "source": [
    "'''\n",
    " for creating a bokeh plot using python code : \n",
    " 1. install the bokeh if already  not exits\n",
    " 2. import it in your code and draw plots\n",
    "\n",
    "'''\n",
    "from bokeh.plotting import figure, output_file, show\n",
    "\n",
    "x = [1, 2, 3, 4, 5]\n",
    "y = [6, 7, 2, 4, 5]\n",
    "\n",
    "output_file(\"bokeh_plot.html\")\n",
    "\n",
    "p = figure(title=\"Simple Bokeh Plot\", x_axis_label='x', y_axis_label='y')\n",
    "\n",
    "p.line(x, y, legend_label=\"Line\", line_width=2)\n",
    "p.circle(x, y, legend_label=\"Circle\", fill_color=\"white\", size=8)\n",
    "show(p)\n"
   ]
  },
  {
   "cell_type": "markdown",
   "id": "b9ba5c10-9dd5-4169-8a3b-0b78708d5ca1",
   "metadata": {},
   "source": [
    "# Ans : 2"
   ]
  },
  {
   "cell_type": "code",
   "execution_count": 8,
   "id": "e8f8d503-e820-42a0-910b-d8ea5b2e0626",
   "metadata": {},
   "outputs": [
    {
     "name": "stderr",
     "output_type": "stream",
     "text": [
      "BokehDeprecationWarning: 'circle() method with size value' was deprecated in Bokeh 3.4.0 and will be removed, use 'scatter(size=...) instead' instead.\n",
      "BokehDeprecationWarning: 'square() method' was deprecated in Bokeh 3.4.0 and will be removed, use \"scatter(marker='square', ...) instead\" instead.\n",
      "BokehDeprecationWarning: 'triangle() method' was deprecated in Bokeh 3.4.0 and will be removed, use \"scatter(marker='triangle', ...) instead\" instead.\n"
     ]
    }
   ],
   "source": [
    "'''\n",
    "In Bokeh, glyphs are visual markers that represent data points on a plot. They can be shapes such as circles, squares, triangles, lines, or patches.\n",
    "Glyphs are added to a Bokeh plot using the `add_glyph()` method of the `Plot` class or by calling glyph functions directly on a figure object.\n",
    "\n",
    "'''\n",
    "from bokeh.plotting import figure, output_file, show\n",
    "\n",
    "x = [1, 2, 3, 4, 5]\n",
    "y = [6, 7, 2, 4, 5]\n",
    "\n",
    "output_file(\"bokeh_glyphs.html\")\n",
    "\n",
    "p = figure(title=\"Bokeh Plot with Glyphs\", x_axis_label='x', y_axis_label='y')\n",
    "\n",
    "p.circle(x, y, size=10, color=\"navy\", alpha=0.5, legend_label=\"Circle Glyph\")\n",
    "\n",
    "p.square(x, y, size=10, color=\"firebrick\", alpha=0.5, legend_label=\"Square Glyph\")\n",
    "\n",
    "p.triangle(x, y, size=10, color=\"green\", alpha=0.5, legend_label=\"Triangle Glyph\")\n",
    "\n",
    "show(p)\n",
    "\n"
   ]
  },
  {
   "cell_type": "markdown",
   "id": "70a4df90-681b-47b7-b55c-ccc0a677b216",
   "metadata": {},
   "source": [
    "# Ans : 3"
   ]
  },
  {
   "cell_type": "code",
   "execution_count": null,
   "id": "97e7df5f-e790-4629-8b4e-f0f20c6f5f00",
   "metadata": {},
   "outputs": [],
   "source": [
    "from bokeh.plotting import figure, output_file, show\n",
    "from bokeh.models import ColumnDataSource\n",
    "\n",
    "x = [1, 2, 3, 4, 5]\n",
    "y = [6, 7, 2, 4, 5]\n",
    "\n",
    "output_file(\"bokeh_customized_plot.html\")\n",
    "\n",
    "p = figure(title=\"Customized Bokeh Plot\", \n",
    "           x_axis_label='X-axis Label', \n",
    "           y_axis_label='Y-axis Label',\n",
    "           plot_width=800, plot_height=400,  # Set plot width and height\n",
    "           toolbar_location=\"above\",  # Position toolbar above the plot\n",
    "           tools=\"pan,wheel_zoom,box_zoom,reset,save\",  # Enable specific tools\n",
    "           background_fill_color=\"lightgray\",  # Set background color\n",
    "           border_fill_color=\"white\",  # Set border color\n",
    "           border_line_color=\"black\",  # Set border line color\n",
    "           border_line_width=2,  # Set border line width\n",
    "           title_text_font_size=\"20pt\",  # Set title font size\n",
    "           title_text_color=\"navy\",  # Set title text color\n",
    "           title_align=\"center\",  # Align title to the center\n",
    "           x_axis_label_text_font_style=\"italic\",  # Set x-axis label font style\n",
    "           y_axis_label_text_font_style=\"italic\",  # Set y-axis label font style\n",
    "           x_axis_minor_tick_line_color=\"gray\",  # Set minor tick line color for x-axis\n",
    "           x_axis_major_label_text_color=\"red\",  # Set major label text color for x-axis\n",
    "           y_axis_minor_tick_line_color=\"gray\",  # Set minor tick line color for y-axis\n",
    "           y_axis_major_label_text_color=\"green\",  # Set major label text color for y-axis\n",
    "           )\n",
    "\n",
    "source = ColumnDataSource(data=dict(x=x, y=y))\n",
    "p.circle('x', 'y', size=10, color=\"navy\", alpha=0.5, source=source, legend_label=\"Circle Glyph\")\n",
    "\n",
    "p.legend.location = \"top_left\"\n",
    "p.legend.background_fill_alpha = 0.5\n",
    "p.legend.border_line_color = \"black\"\n",
    "p.legend.label_text_font_style = \"bold\"\n",
    "\n",
    "show(p)\n"
   ]
  },
  {
   "cell_type": "markdown",
   "id": "7a1086e7-1b7d-4043-91d3-f88a72f1935b",
   "metadata": {},
   "source": [
    "# Ans : 4"
   ]
  },
  {
   "cell_type": "code",
   "execution_count": null,
   "id": "307dff53-c6b5-49fa-a317-403f5965f47d",
   "metadata": {},
   "outputs": [],
   "source": [
    "from bokeh.plotting import figure, curdoc\n",
    "from bokeh.models import ColumnDataSource\n",
    "from bokeh.layouts import column\n",
    "import numpy as np\n",
    "\n",
    "plot = figure(title=\"Interactive Bokeh Plot\", plot_height=300, plot_width=600)\n",
    "\n",
    "source = ColumnDataSource(data={'x': [], 'y': []})\n",
    "\n",
    "# Add a line glyph\n",
    "line = plot.line('x', 'y', source=source)\n",
    "\n",
    "def update():\n",
    "    new_data = {'x': np.linspace(0, 4*np.pi, 100), 'y': np.sin(np.linspace(0, 4*np.pi, 100))}\n",
    "    source.data = new_data\n",
    "\n",
    "button = Button(label=\"Update\", button_type=\"success\")\n",
    "button.on_click(update)\n",
    "\n",
    "layout = column(plot, button)\n",
    "\n",
    "curdoc().add_root(layout)\n"
   ]
  },
  {
   "cell_type": "markdown",
   "id": "7f05601d-c82a-4dc9-be29-dd5fdc998082",
   "metadata": {},
   "source": [
    "# Ans : 5"
   ]
  },
  {
   "cell_type": "code",
   "execution_count": null,
   "id": "29959aaa-efa8-4053-b862-e5091c5e7510",
   "metadata": {},
   "outputs": [],
   "source": []
  }
 ],
 "metadata": {
  "kernelspec": {
   "display_name": "Python 3 (ipykernel)",
   "language": "python",
   "name": "python3"
  },
  "language_info": {
   "codemirror_mode": {
    "name": "ipython",
    "version": 3
   },
   "file_extension": ".py",
   "mimetype": "text/x-python",
   "name": "python",
   "nbconvert_exporter": "python",
   "pygments_lexer": "ipython3",
   "version": "3.12.3"
  }
 },
 "nbformat": 4,
 "nbformat_minor": 5
}
